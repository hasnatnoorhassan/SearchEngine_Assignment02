{
 "cells": [
  {
   "cell_type": "code",
   "execution_count": 2,
   "id": "4a39a47a",
   "metadata": {},
   "outputs": [],
   "source": [
    "import csv\n",
    "import nltk\n",
    "from nltk.corpus import stopwords\n",
    "from nltk.tokenize import word_tokenize\n",
    "\n",
    "def preprocess_text(text):\n",
    "    stop_words = set(stopwords.words('english'))\n",
    "\n",
    "    if isinstance(text, str): \n",
    "        tokens = word_tokenize(text.lower())\n",
    "        tokens = [token for token in tokens if token.isalnum() and token not in stop_words]\n",
    "        preprocessed_text = ' '.join(tokens)\n",
    "    else:\n",
    "        preprocessed_text = '' \n",
    "    \n",
    "    return preprocessed_text\n",
    "\n",
    "new_text = \"What is republic and anarchism?\"\n",
    "\n",
    "preprocessed_text = preprocess_text(new_text)\n",
    "\n",
    "new_row = [\"-1\", \"query\", preprocessed_text]\n",
    "\n",
    "with open('sample.csv', 'r') as f:\n",
    "    reader = csv.reader(f)\n",
    "    rows = list(reader)\n",
    "    if len(rows) > 0 and rows[-1][0] == \"-1\":\n",
    "        rows.pop() \n",
    "\n",
    "with open('sample.csv', 'a', newline='') as f:\n",
    "    writer = csv.writer(f)\n",
    "    writer.writerow(new_row)\n"
   ]
  }
 ],
 "metadata": {
  "kernelspec": {
   "display_name": "Python 3 (ipykernel)",
   "language": "python",
   "name": "python3"
  },
  "language_info": {
   "codemirror_mode": {
    "name": "ipython",
    "version": 3
   },
   "file_extension": ".py",
   "mimetype": "text/x-python",
   "name": "python",
   "nbconvert_exporter": "python",
   "pygments_lexer": "ipython3",
   "version": "3.11.5"
  }
 },
 "nbformat": 4,
 "nbformat_minor": 5
}
